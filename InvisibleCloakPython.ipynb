{
 "cells": [
  {
   "cell_type": "code",
   "execution_count": 1,
   "metadata": {},
   "outputs": [
    {
     "name": "stdout",
     "output_type": "stream",
     "text": [
      "4.5.1\n"
     ]
    }
   ],
   "source": [
    "import cv2\n",
    "import numpy as np\n",
    "import time\n",
    "\n",
    "# replace the red pixels ( or undesired area ) with\n",
    "# background pixels to generate the invisibility feature.\n",
    "\n",
    "## 1. Hue: This channel encodes color information. Hue can be\n",
    "# thought of an angle where 0 degree corresponds to the red color,\n",
    "# 120 degrees corresponds to the green color, and 240 degrees\n",
    "# corresponds to the blue color.\n",
    "\n",
    "## 2. Saturation: This channel encodes the intensity/purity of color.\n",
    "# For example, pink is less saturated than red.\n",
    "\n",
    "## 3. Value: This channel encodes the brightness of color.\n",
    "# Shading and gloss components of an image appear in this\n",
    "# channel reading the videocapture video\n",
    "\n",
    "# in order to check the cv2 version\n",
    "print(cv2.__version__)"
   ]
  },
  {
   "cell_type": "code",
   "execution_count": 2,
   "metadata": {},
   "outputs": [],
   "source": [
    "# taking video.mp4 as input.\n",
    "# Make your path according to your needs\n",
    "capture_video = cv2.VideoCapture(0)\n",
    "\t\n",
    "# give the camera to warm up\n",
    "time.sleep(1)\n",
    "count = 0\n",
    "background = 0"
   ]
  },
  {
   "cell_type": "code",
   "execution_count": 3,
   "metadata": {},
   "outputs": [],
   "source": [
    "# capturing the background in range of 60\n",
    "# you should have video that have some seconds\n",
    "# dedicated to background frame so that it\n",
    "# could easily save the background image\n",
    "for i in range(60):\n",
    "\treturn_val, background = capture_video.read()\n",
    "\tif return_val == False :\n",
    "\t\tcontinue\n",
    "\n",
    "background = np.flip(background, axis = 1) # flipping of the frame\n"
   ]
  },
  {
   "cell_type": "code",
   "execution_count": 4,
   "metadata": {},
   "outputs": [
    {
     "ename": "KeyboardInterrupt",
     "evalue": "",
     "output_type": "error",
     "traceback": [
      "\u001b[0;31m---------------------------------------------------------------------------\u001b[0m",
      "\u001b[0;31mKeyboardInterrupt\u001b[0m                         Traceback (most recent call last)",
      "\u001b[0;32m<ipython-input-4-0de7e073cbb5>\u001b[0m in \u001b[0;36m<module>\u001b[0;34m\u001b[0m\n\u001b[1;32m     42\u001b[0m \u001b[0;34m\u001b[0m\u001b[0m\n\u001b[1;32m     43\u001b[0m         \u001b[0mcv2\u001b[0m\u001b[0;34m.\u001b[0m\u001b[0mimshow\u001b[0m\u001b[0;34m(\u001b[0m\u001b[0;34m\"INVISIBLE MAN\"\u001b[0m\u001b[0;34m,\u001b[0m \u001b[0mfinal_output\u001b[0m\u001b[0;34m)\u001b[0m\u001b[0;34m\u001b[0m\u001b[0;34m\u001b[0m\u001b[0m\n\u001b[0;32m---> 44\u001b[0;31m         \u001b[0mk\u001b[0m \u001b[0;34m=\u001b[0m \u001b[0mcv2\u001b[0m\u001b[0;34m.\u001b[0m\u001b[0mwaitKey\u001b[0m\u001b[0;34m(\u001b[0m\u001b[0;36m10\u001b[0m\u001b[0;34m)\u001b[0m\u001b[0;34m\u001b[0m\u001b[0;34m\u001b[0m\u001b[0m\n\u001b[0m\u001b[1;32m     45\u001b[0m         \u001b[0;32mif\u001b[0m \u001b[0mk\u001b[0m \u001b[0;34m==\u001b[0m \u001b[0;36m27\u001b[0m\u001b[0;34m:\u001b[0m\u001b[0;34m\u001b[0m\u001b[0;34m\u001b[0m\u001b[0m\n\u001b[1;32m     46\u001b[0m                 \u001b[0;32mbreak\u001b[0m\u001b[0;34m\u001b[0m\u001b[0;34m\u001b[0m\u001b[0m\n",
      "\u001b[0;31mKeyboardInterrupt\u001b[0m: "
     ]
    }
   ],
   "source": [
    "# we are reading from video\n",
    "while (capture_video.isOpened()):\n",
    "\treturn_val, img = capture_video.read()\n",
    "\tif not return_val :\n",
    "\t\tbreak\n",
    "\tcount = count + 1\n",
    "\timg = np.flip(img, axis = 1)\n",
    "\n",
    "\t# convert the image - BGR to HSV\n",
    "\t# as we focused on detection of red color\n",
    "\n",
    "\t# converting BGR to HSV for better\n",
    "\t# detection or you can convert it to gray\n",
    "\thsv = cv2.cvtColor(img, cv2.COLOR_BGR2HSV)\n",
    "\n",
    "\t#-------------------------------------BLOCK----------------------------#\n",
    "\t# ranges should be carefully chosen\n",
    "\t# setting the lower and upper range for mask1\n",
    "\tlower_red = np.array([100, 40, 40])\t\n",
    "\tupper_red = np.array([100, 255, 255])\n",
    "\tmask1 = cv2.inRange(hsv, lower_red, upper_red)\n",
    "\t# setting the lower and upper range for mask2\n",
    "\tlower_red = np.array([155, 40, 40])\n",
    "\tupper_red = np.array([180, 255, 255])\n",
    "\tmask2 = cv2.inRange(hsv, lower_red, upper_red)\n",
    "\t#----------------------------------------------------------------------#\n",
    "\n",
    "\t# the above block of code could be replaced with\n",
    "\t# some other code depending upon the color of your cloth\n",
    "\tmask1 = mask1 + mask2\n",
    "\n",
    "\t# Refining the mask corresponding to the detected red color\n",
    "\tmask1 = cv2.morphologyEx(mask1, cv2.MORPH_OPEN, np.ones((3, 3),\n",
    "\t\t\t\t\t\t\t\t\t\tnp.uint8), iterations = 2)\n",
    "\tmask1 = cv2.dilate(mask1, np.ones((3, 3), np.uint8), iterations = 1)\n",
    "\tmask2 = cv2.bitwise_not(mask1)\n",
    "\n",
    "\t# Generating the final output\n",
    "\tres1 = cv2.bitwise_and(background, background, mask = mask1)\n",
    "\tres2 = cv2.bitwise_and(img, img, mask = mask2)\n",
    "\tfinal_output = cv2.addWeighted(res1, 1, res2, 1, 0)\n",
    "\n",
    "\tcv2.imshow(\"INVISIBLE MAN\", final_output)\n",
    "\tk = cv2.waitKey(10)\n",
    "\tif k == 27:\n",
    "\t\tbreak"
   ]
  },
  {
   "cell_type": "code",
   "execution_count": null,
   "metadata": {},
   "outputs": [],
   "source": []
  }
 ],
 "metadata": {
  "kernelspec": {
   "display_name": "Python 3",
   "language": "python",
   "name": "python3"
  },
  "language_info": {
   "codemirror_mode": {
    "name": "ipython",
    "version": 3
   },
   "file_extension": ".py",
   "mimetype": "text/x-python",
   "name": "python",
   "nbconvert_exporter": "python",
   "pygments_lexer": "ipython3",
   "version": "3.8.5"
  }
 },
 "nbformat": 4,
 "nbformat_minor": 4
}
